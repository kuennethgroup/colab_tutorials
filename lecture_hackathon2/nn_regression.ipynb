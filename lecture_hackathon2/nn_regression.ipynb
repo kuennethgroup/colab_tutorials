{
 "cells": [
  {
   "cell_type": "markdown",
   "metadata": {},
   "source": [
    "# Train an neural network for regression\n",
    "\n",
    "- Watch this video https://lightning.ai/docs/pytorch/stable/starter/introduction.html"
   ]
  },
  {
   "cell_type": "code",
   "execution_count": 1,
   "metadata": {},
   "outputs": [],
   "source": [
    "# pip install lightning pandas matplotlib"
   ]
  },
  {
   "cell_type": "code",
   "execution_count": 2,
   "metadata": {},
   "outputs": [
    {
     "data": {
      "text/html": [
       "<div>\n",
       "<style scoped>\n",
       "    .dataframe tbody tr th:only-of-type {\n",
       "        vertical-align: middle;\n",
       "    }\n",
       "\n",
       "    .dataframe tbody tr th {\n",
       "        vertical-align: top;\n",
       "    }\n",
       "\n",
       "    .dataframe thead th {\n",
       "        text-align: right;\n",
       "    }\n",
       "</style>\n",
       "<table border=\"1\" class=\"dataframe\">\n",
       "  <thead>\n",
       "    <tr style=\"text-align: right;\">\n",
       "      <th></th>\n",
       "      <th>smiles</th>\n",
       "      <th>property</th>\n",
       "      <th>value</th>\n",
       "      <th>fingerprint</th>\n",
       "    </tr>\n",
       "  </thead>\n",
       "  <tbody>\n",
       "    <tr>\n",
       "      <th>0</th>\n",
       "      <td>[*]C[*]</td>\n",
       "      <td>Xc</td>\n",
       "      <td>47.80</td>\n",
       "      <td>[0, 0, 0, 0, 0, 0, 0, 0, 0, 0, 0, 0, 0, 0, 0, ...</td>\n",
       "    </tr>\n",
       "    <tr>\n",
       "      <th>1</th>\n",
       "      <td>[*]CC([*])C</td>\n",
       "      <td>Xc</td>\n",
       "      <td>44.47</td>\n",
       "      <td>[0, 1, 0, 0, 0, 0, 0, 0, 0, 0, 0, 0, 0, 0, 0, ...</td>\n",
       "    </tr>\n",
       "    <tr>\n",
       "      <th>2</th>\n",
       "      <td>[*]CC([*])CC</td>\n",
       "      <td>Xc</td>\n",
       "      <td>34.04</td>\n",
       "      <td>[1, 1, 0, 0, 0, 0, 0, 0, 0, 0, 0, 0, 0, 0, 0, ...</td>\n",
       "    </tr>\n",
       "    <tr>\n",
       "      <th>3</th>\n",
       "      <td>[*]CC([*])CCC</td>\n",
       "      <td>Xc</td>\n",
       "      <td>20.01</td>\n",
       "      <td>[0, 1, 0, 0, 0, 0, 0, 0, 0, 0, 0, 0, 0, 0, 0, ...</td>\n",
       "    </tr>\n",
       "    <tr>\n",
       "      <th>4</th>\n",
       "      <td>[*]CC([*])CC(C)C</td>\n",
       "      <td>Xc</td>\n",
       "      <td>21.64</td>\n",
       "      <td>[0, 2, 0, 0, 0, 0, 0, 0, 0, 0, 0, 0, 0, 0, 0, ...</td>\n",
       "    </tr>\n",
       "    <tr>\n",
       "      <th>...</th>\n",
       "      <td>...</td>\n",
       "      <td>...</td>\n",
       "      <td>...</td>\n",
       "      <td>...</td>\n",
       "    </tr>\n",
       "    <tr>\n",
       "      <th>427</th>\n",
       "      <td>[*]C([*])(F)F</td>\n",
       "      <td>Xc</td>\n",
       "      <td>31.84</td>\n",
       "      <td>[0, 0, 0, 0, 0, 0, 0, 0, 0, 0, 0, 0, 0, 0, 0, ...</td>\n",
       "    </tr>\n",
       "    <tr>\n",
       "      <th>428</th>\n",
       "      <td>[*]C/C=C\\C[*]</td>\n",
       "      <td>Xc</td>\n",
       "      <td>25.58</td>\n",
       "      <td>[0, 0, 0, 0, 0, 0, 0, 0, 0, 0, 0, 0, 0, 0, 0, ...</td>\n",
       "    </tr>\n",
       "    <tr>\n",
       "      <th>429</th>\n",
       "      <td>[*]O[Si](C)(C)CCCC(=O)Oc1ccc(C=Nc2ccc(N=Cc3ccc...</td>\n",
       "      <td>Xc</td>\n",
       "      <td>29.05</td>\n",
       "      <td>[0, 0, 0, 0, 0, 0, 0, 0, 0, 0, 0, 0, 0, 0, 1, ...</td>\n",
       "    </tr>\n",
       "    <tr>\n",
       "      <th>430</th>\n",
       "      <td>[*]O[Si](C)(C)CCCC(=O)Oc1ccc(C=Nc2ccc(Cc3ccc(N...</td>\n",
       "      <td>Xc</td>\n",
       "      <td>21.74</td>\n",
       "      <td>[0, 0, 0, 0, 0, 0, 0, 0, 0, 0, 0, 0, 0, 0, 1, ...</td>\n",
       "    </tr>\n",
       "    <tr>\n",
       "      <th>431</th>\n",
       "      <td>[*]CCN(CCCCCCOc1ccc(C=Cc2ccc([N+](=O)[O-])cc2)...</td>\n",
       "      <td>Xc</td>\n",
       "      <td>7.55</td>\n",
       "      <td>[0, 0, 0, 0, 0, 0, 0, 0, 0, 0, 0, 0, 0, 3, 0, ...</td>\n",
       "    </tr>\n",
       "  </tbody>\n",
       "</table>\n",
       "<p>432 rows × 4 columns</p>\n",
       "</div>"
      ],
      "text/plain": [
       "                                                smiles property  value  \\\n",
       "0                                              [*]C[*]       Xc  47.80   \n",
       "1                                          [*]CC([*])C       Xc  44.47   \n",
       "2                                         [*]CC([*])CC       Xc  34.04   \n",
       "3                                        [*]CC([*])CCC       Xc  20.01   \n",
       "4                                     [*]CC([*])CC(C)C       Xc  21.64   \n",
       "..                                                 ...      ...    ...   \n",
       "427                                      [*]C([*])(F)F       Xc  31.84   \n",
       "428                                      [*]C/C=C\\C[*]       Xc  25.58   \n",
       "429  [*]O[Si](C)(C)CCCC(=O)Oc1ccc(C=Nc2ccc(N=Cc3ccc...       Xc  29.05   \n",
       "430  [*]O[Si](C)(C)CCCC(=O)Oc1ccc(C=Nc2ccc(Cc3ccc(N...       Xc  21.74   \n",
       "431  [*]CCN(CCCCCCOc1ccc(C=Cc2ccc([N+](=O)[O-])cc2)...       Xc   7.55   \n",
       "\n",
       "                                           fingerprint  \n",
       "0    [0, 0, 0, 0, 0, 0, 0, 0, 0, 0, 0, 0, 0, 0, 0, ...  \n",
       "1    [0, 1, 0, 0, 0, 0, 0, 0, 0, 0, 0, 0, 0, 0, 0, ...  \n",
       "2    [1, 1, 0, 0, 0, 0, 0, 0, 0, 0, 0, 0, 0, 0, 0, ...  \n",
       "3    [0, 1, 0, 0, 0, 0, 0, 0, 0, 0, 0, 0, 0, 0, 0, ...  \n",
       "4    [0, 2, 0, 0, 0, 0, 0, 0, 0, 0, 0, 0, 0, 0, 0, ...  \n",
       "..                                                 ...  \n",
       "427  [0, 0, 0, 0, 0, 0, 0, 0, 0, 0, 0, 0, 0, 0, 0, ...  \n",
       "428  [0, 0, 0, 0, 0, 0, 0, 0, 0, 0, 0, 0, 0, 0, 0, ...  \n",
       "429  [0, 0, 0, 0, 0, 0, 0, 0, 0, 0, 0, 0, 0, 0, 1, ...  \n",
       "430  [0, 0, 0, 0, 0, 0, 0, 0, 0, 0, 0, 0, 0, 0, 1, ...  \n",
       "431  [0, 0, 0, 0, 0, 0, 0, 0, 0, 0, 0, 0, 0, 3, 0, ...  \n",
       "\n",
       "[432 rows x 4 columns]"
      ]
     },
     "execution_count": 2,
     "metadata": {},
     "output_type": "execute_result"
    }
   ],
   "source": [
    "# Replace this test data with your data\n",
    "\n",
    "import pandas as pd\n",
    "df = pd.read_json(\n",
    "    \"https://raw.githubusercontent.com/kuennethgroup/colab_tutorials/main/lecture2/data/polymers_tend_to_crystalize.json\"\n",
    ")\n",
    "df"
   ]
  },
  {
   "cell_type": "code",
   "execution_count": 19,
   "metadata": {},
   "outputs": [],
   "source": [
    "import torch, torch.nn as nn\n",
    "import torch.utils.data as data\n",
    "import torch.nn.functional as F\n",
    "import lightning as L\n",
    "\n",
    "# --------------------------------\n",
    "# Define a LightningModule by subclassing LightningModule\n",
    "# A LightningModule is a subclass of nn.Module\n",
    "\n",
    "\n",
    "class LitRegressor(L.LightningModule):\n",
    "    def __init__(self):\n",
    "        # -- Define your NN\n",
    "        super().__init__()\n",
    "        input_size = 2048\n",
    "        self.l1 = nn.Sequential(nn.Linear(input_size, 300), nn.ReLU(), nn.Dropout(0.4))\n",
    "        self.l2 = nn.Sequential(nn.Linear(300, 100), nn.ReLU(), nn.Dropout(0.4))\n",
    "        self.l3 = nn.Sequential(nn.Linear(100, 1))\n",
    "\n",
    "    def forward(self, x):\n",
    "        # -- Define how to ho forward through your NN\n",
    "        # forward defines the prediction/inference actions\n",
    "        x = self.l3(self.l2(self.l1(x)))\n",
    "        return x\n",
    "\n",
    "    def training_step(self, batch, batch_idx):\n",
    "        # -- Define how to do a training step\n",
    "        # Split to input and output as you defined it in your dataloader\n",
    "        x, y = batch\n",
    "        # fog forward and get prediction \n",
    "        x = self.forward(x)\n",
    "        # compute loss\n",
    "        y = y.view(x.size(0), -1)\n",
    "        loss = F.mse_loss(y, x)\n",
    "        # log the loss (for plotting later)\n",
    "        self.log(\"train_loss\", loss, prog_bar=True)\n",
    "\n",
    "        return loss\n",
    "\n",
    "    def validation_step(self, batch, batch_idx):\n",
    "        # -- Define how to do a validation step (similar to raining)\n",
    "        x, y = batch\n",
    "        x = self.forward(x)\n",
    "        y = y.view(x.size(0), -1)\n",
    "        loss = F.mse_loss(x, y)\n",
    "        self.log(\"val_loss\", loss, prog_bar=True)\n",
    "        return loss\n",
    "\n",
    "    def configure_optimizers(self):\n",
    "        # Define the optimize that you want to use\n",
    "        optimizer = torch.optim.Adam(self.parameters(), lr=1e-3)\n",
    "        return optimizer"
   ]
  },
  {
   "cell_type": "markdown",
   "metadata": {},
   "source": [
    "## Load data"
   ]
  },
  {
   "cell_type": "code",
   "execution_count": 4,
   "metadata": {},
   "outputs": [],
   "source": [
    "import torch.utils.data as data_utils\n",
    "import numpy as np\n",
    "from sklearn.model_selection import train_test_split\n",
    "\n",
    "# split\n",
    "train, val = train_test_split(df, shuffle=True, random_state=123)\n",
    "\n",
    "# Train\n",
    "train_fps = torch.Tensor(np.stack(train[\"fingerprint\"].values).astype(np.float32))\n",
    "train_values = torch.Tensor(np.stack(train[\"value\"].values).astype(np.float32))\n",
    "train_data = data_utils.TensorDataset(train_fps, train_values)\n",
    "train_loader = data_utils.DataLoader(train_data, batch_size=30, shuffle=False)\n",
    "\n",
    "# Validation\n",
    "val_fps = torch.Tensor(np.stack(val[\"fingerprint\"].values).astype(np.float32))\n",
    "val_values = torch.Tensor(np.stack(val[\"value\"].values).astype(np.float32))\n",
    "val_data = data_utils.TensorDataset(val_fps, val_values)\n",
    "val_loader = data_utils.DataLoader(val_data, batch_size=30, shuffle=False)\n",
    "\n",
    "# Test\n",
    "# test loader, we use the same dataset as for val (for now); no values here\n",
    "test_fps = torch.Tensor(np.stack(val[\"fingerprint\"].values).astype(np.float32))\n",
    "test_values = torch.Tensor(np.stack(val[\"value\"].values).astype(np.float32))\n",
    "test_loader = data_utils.DataLoader(test_fps, batch_size=30, shuffle=False)"
   ]
  },
  {
   "cell_type": "markdown",
   "metadata": {},
   "source": [
    "# Train"
   ]
  },
  {
   "cell_type": "code",
   "execution_count": 20,
   "metadata": {},
   "outputs": [
    {
     "name": "stderr",
     "output_type": "stream",
     "text": [
      "Trainer will use only 1 of 4 GPUs because it is running inside an interactive / notebook environment. You may try to set `Trainer(devices=4)` but please note that multi-GPU inside interactive / notebook environments is considered experimental and unstable. Your mileage may vary.\n",
      "Trainer already configured with model summary callbacks: [<class 'lightning.pytorch.callbacks.model_summary.ModelSummary'>]. Skipping setting a default `ModelSummary` callback.\n",
      "GPU available: True (cuda), used: True\n",
      "TPU available: False, using: 0 TPU cores\n",
      "IPU available: False, using: 0 IPUs\n",
      "HPU available: False, using: 0 HPUs\n",
      "`Trainer(val_check_interval=1)` was configured so validation will run after every batch.\n",
      "LOCAL_RANK: 0 - CUDA_VISIBLE_DEVICES: [0,1,2,3]\n",
      "\n",
      "  | Name | Type       | Params\n",
      "------------------------------------\n",
      "0 | l1   | Sequential | 614 K \n",
      "1 | l1.0 | Linear     | 614 K \n",
      "2 | l1.1 | ReLU       | 0     \n",
      "3 | l1.2 | Dropout    | 0     \n",
      "4 | l2   | Sequential | 30.1 K\n",
      "5 | l2.0 | Linear     | 30.1 K\n",
      "6 | l2.1 | ReLU       | 0     \n",
      "7 | l2.2 | Dropout    | 0     \n",
      "8 | l3   | Sequential | 101   \n",
      "9 | l3.0 | Linear     | 101   \n",
      "------------------------------------\n",
      "644 K     Trainable params\n",
      "0         Non-trainable params\n",
      "644 K     Total params\n",
      "2.580     Total estimated model params size (MB)\n"
     ]
    },
    {
     "name": "stdout",
     "output_type": "stream",
     "text": [
      "                                                                            "
     ]
    },
    {
     "name": "stderr",
     "output_type": "stream",
     "text": [
      "/home/chris/courses/colab_tutorials/.venv/lib/python3.10/site-packages/lightning/pytorch/trainer/connectors/data_connector.py:441: The 'val_dataloader' does not have many workers which may be a bottleneck. Consider increasing the value of the `num_workers` argument` to `num_workers=191` in the `DataLoader` to improve performance.\n",
      "/home/chris/courses/colab_tutorials/.venv/lib/python3.10/site-packages/lightning/pytorch/trainer/connectors/data_connector.py:441: The 'train_dataloader' does not have many workers which may be a bottleneck. Consider increasing the value of the `num_workers` argument` to `num_workers=191` in the `DataLoader` to improve performance.\n"
     ]
    },
    {
     "name": "stdout",
     "output_type": "stream",
     "text": [
      "Epoch 0: 100%|██████████| 11/11 [00:00<00:00, 30.06it/s, v_num=1, train_loss=2.27e+3, val_loss=1.86e+3]"
     ]
    },
    {
     "name": "stderr",
     "output_type": "stream",
     "text": [
      "Metric val_loss improved. New best score: 1856.560\n",
      "Epoch 0, global step 11: 'val_loss' reached 1856.55957 (best 1856.55957), saving model to '/home/chris/courses/colab_tutorials/lecture_hackathon2/my_model/epoch=0-step=11.ckpt' as top 1\n"
     ]
    },
    {
     "name": "stdout",
     "output_type": "stream",
     "text": [
      "Epoch 1: 100%|██████████| 11/11 [00:00<00:00, 60.30it/s, v_num=1, train_loss=1.64e+3, val_loss=1.29e+3]"
     ]
    },
    {
     "name": "stderr",
     "output_type": "stream",
     "text": [
      "Metric val_loss improved by 565.224 >= min_delta = 0.0. New best score: 1291.336\n",
      "Epoch 1, global step 22: 'val_loss' reached 1291.33594 (best 1291.33594), saving model to '/home/chris/courses/colab_tutorials/lecture_hackathon2/my_model/epoch=1-step=22.ckpt' as top 1\n"
     ]
    },
    {
     "name": "stdout",
     "output_type": "stream",
     "text": [
      "Epoch 2: 100%|██████████| 11/11 [00:00<00:00, 63.90it/s, v_num=1, train_loss=1.13e+3, val_loss=1.17e+3]"
     ]
    },
    {
     "name": "stderr",
     "output_type": "stream",
     "text": [
      "Metric val_loss improved by 125.464 >= min_delta = 0.0. New best score: 1165.872\n",
      "Epoch 2, global step 33: 'val_loss' reached 1165.87158 (best 1165.87158), saving model to '/home/chris/courses/colab_tutorials/lecture_hackathon2/my_model/epoch=2-step=33.ckpt' as top 1\n"
     ]
    },
    {
     "name": "stdout",
     "output_type": "stream",
     "text": [
      "Epoch 3: 100%|██████████| 11/11 [00:00<00:00, 63.88it/s, v_num=1, train_loss=1.1e+3, val_loss=1.05e+3] "
     ]
    },
    {
     "name": "stderr",
     "output_type": "stream",
     "text": [
      "Metric val_loss improved by 119.236 >= min_delta = 0.0. New best score: 1046.635\n",
      "Epoch 3, global step 44: 'val_loss' reached 1046.63550 (best 1046.63550), saving model to '/home/chris/courses/colab_tutorials/lecture_hackathon2/my_model/epoch=3-step=44.ckpt' as top 1\n"
     ]
    },
    {
     "name": "stdout",
     "output_type": "stream",
     "text": [
      "Epoch 4: 100%|██████████| 11/11 [00:00<00:00, 61.26it/s, v_num=1, train_loss=944.0, val_loss=942.0]   "
     ]
    },
    {
     "name": "stderr",
     "output_type": "stream",
     "text": [
      "Metric val_loss improved by 104.702 >= min_delta = 0.0. New best score: 941.934\n",
      "Epoch 4, global step 55: 'val_loss' reached 941.93372 (best 941.93372), saving model to '/home/chris/courses/colab_tutorials/lecture_hackathon2/my_model/epoch=4-step=55.ckpt' as top 1\n"
     ]
    },
    {
     "name": "stdout",
     "output_type": "stream",
     "text": [
      "Epoch 5: 100%|██████████| 11/11 [00:00<00:00, 65.64it/s, v_num=1, train_loss=731.0, val_loss=833.0] "
     ]
    },
    {
     "name": "stderr",
     "output_type": "stream",
     "text": [
      "Metric val_loss improved by 109.245 >= min_delta = 0.0. New best score: 832.688\n",
      "Epoch 5, global step 66: 'val_loss' reached 832.68829 (best 832.68829), saving model to '/home/chris/courses/colab_tutorials/lecture_hackathon2/my_model/epoch=5-step=66.ckpt' as top 1\n"
     ]
    },
    {
     "name": "stdout",
     "output_type": "stream",
     "text": [
      "Epoch 6: 100%|██████████| 11/11 [00:00<00:00, 63.66it/s, v_num=1, train_loss=483.0, val_loss=729.0]"
     ]
    },
    {
     "name": "stderr",
     "output_type": "stream",
     "text": [
      "Metric val_loss improved by 103.391 >= min_delta = 0.0. New best score: 729.297\n",
      "Epoch 6, global step 77: 'val_loss' reached 729.29724 (best 729.29724), saving model to '/home/chris/courses/colab_tutorials/lecture_hackathon2/my_model/epoch=6-step=77.ckpt' as top 1\n"
     ]
    },
    {
     "name": "stdout",
     "output_type": "stream",
     "text": [
      "Epoch 7: 100%|██████████| 11/11 [00:00<00:00, 64.62it/s, v_num=1, train_loss=359.0, val_loss=644.0]"
     ]
    },
    {
     "name": "stderr",
     "output_type": "stream",
     "text": [
      "Metric val_loss improved by 85.583 >= min_delta = 0.0. New best score: 643.715\n",
      "Epoch 7, global step 88: 'val_loss' reached 643.71454 (best 643.71454), saving model to '/home/chris/courses/colab_tutorials/lecture_hackathon2/my_model/epoch=7-step=88.ckpt' as top 1\n"
     ]
    },
    {
     "name": "stdout",
     "output_type": "stream",
     "text": [
      "Epoch 8: 100%|██████████| 11/11 [00:00<00:00, 63.53it/s, v_num=1, train_loss=341.0, val_loss=576.0]"
     ]
    },
    {
     "name": "stderr",
     "output_type": "stream",
     "text": [
      "Metric val_loss improved by 67.377 >= min_delta = 0.0. New best score: 576.337\n",
      "Epoch 8, global step 99: 'val_loss' reached 576.33746 (best 576.33746), saving model to '/home/chris/courses/colab_tutorials/lecture_hackathon2/my_model/epoch=8-step=99.ckpt' as top 1\n"
     ]
    },
    {
     "name": "stdout",
     "output_type": "stream",
     "text": [
      "Epoch 9: 100%|██████████| 11/11 [00:00<00:00, 63.72it/s, v_num=1, train_loss=244.0, val_loss=523.0]"
     ]
    },
    {
     "name": "stderr",
     "output_type": "stream",
     "text": [
      "Metric val_loss improved by 53.286 >= min_delta = 0.0. New best score: 523.051\n",
      "Epoch 9, global step 110: 'val_loss' reached 523.05121 (best 523.05121), saving model to '/home/chris/courses/colab_tutorials/lecture_hackathon2/my_model/epoch=9-step=110.ckpt' as top 1\n"
     ]
    },
    {
     "name": "stdout",
     "output_type": "stream",
     "text": [
      "Epoch 10: 100%|██████████| 11/11 [00:00<00:00, 66.31it/s, v_num=1, train_loss=149.0, val_loss=480.0]"
     ]
    },
    {
     "name": "stderr",
     "output_type": "stream",
     "text": [
      "Metric val_loss improved by 43.317 >= min_delta = 0.0. New best score: 479.734\n",
      "Epoch 10, global step 121: 'val_loss' reached 479.73444 (best 479.73444), saving model to '/home/chris/courses/colab_tutorials/lecture_hackathon2/my_model/epoch=10-step=121.ckpt' as top 1\n"
     ]
    },
    {
     "name": "stdout",
     "output_type": "stream",
     "text": [
      "Epoch 11: 100%|██████████| 11/11 [00:00<00:00, 65.59it/s, v_num=1, train_loss=109.0, val_loss=446.0]"
     ]
    },
    {
     "name": "stderr",
     "output_type": "stream",
     "text": [
      "Metric val_loss improved by 34.059 >= min_delta = 0.0. New best score: 445.675\n",
      "Epoch 11, global step 132: 'val_loss' reached 445.67520 (best 445.67520), saving model to '/home/chris/courses/colab_tutorials/lecture_hackathon2/my_model/epoch=11-step=132.ckpt' as top 1\n"
     ]
    },
    {
     "name": "stdout",
     "output_type": "stream",
     "text": [
      "Epoch 12: 100%|██████████| 11/11 [00:00<00:00, 66.15it/s, v_num=1, train_loss=127.0, val_loss=431.0]"
     ]
    },
    {
     "name": "stderr",
     "output_type": "stream",
     "text": [
      "Metric val_loss improved by 14.924 >= min_delta = 0.0. New best score: 430.751\n",
      "Epoch 12, global step 143: 'val_loss' reached 430.75137 (best 430.75137), saving model to '/home/chris/courses/colab_tutorials/lecture_hackathon2/my_model/epoch=12-step=143.ckpt' as top 1\n"
     ]
    },
    {
     "name": "stdout",
     "output_type": "stream",
     "text": [
      "Epoch 13: 100%|██████████| 11/11 [00:00<00:00, 66.07it/s, v_num=1, train_loss=128.0, val_loss=419.0]"
     ]
    },
    {
     "name": "stderr",
     "output_type": "stream",
     "text": [
      "Metric val_loss improved by 11.476 >= min_delta = 0.0. New best score: 419.276\n",
      "Epoch 13, global step 154: 'val_loss' reached 419.27582 (best 419.27582), saving model to '/home/chris/courses/colab_tutorials/lecture_hackathon2/my_model/epoch=13-step=154.ckpt' as top 1\n"
     ]
    },
    {
     "name": "stdout",
     "output_type": "stream",
     "text": [
      "Epoch 14: 100%|██████████| 11/11 [00:00<00:00, 64.54it/s, v_num=1, train_loss=111.0, val_loss=395.0]"
     ]
    },
    {
     "name": "stderr",
     "output_type": "stream",
     "text": [
      "Metric val_loss improved by 24.733 >= min_delta = 0.0. New best score: 394.542\n",
      "Epoch 14, global step 165: 'val_loss' reached 394.54239 (best 394.54239), saving model to '/home/chris/courses/colab_tutorials/lecture_hackathon2/my_model/epoch=14-step=165.ckpt' as top 1\n"
     ]
    },
    {
     "name": "stdout",
     "output_type": "stream",
     "text": [
      "Epoch 15: 100%|██████████| 11/11 [00:00<00:00, 64.05it/s, v_num=1, train_loss=129.0, val_loss=389.0]"
     ]
    },
    {
     "name": "stderr",
     "output_type": "stream",
     "text": [
      "Metric val_loss improved by 5.969 >= min_delta = 0.0. New best score: 388.573\n",
      "Epoch 15, global step 176: 'val_loss' reached 388.57330 (best 388.57330), saving model to '/home/chris/courses/colab_tutorials/lecture_hackathon2/my_model/epoch=15-step=176.ckpt' as top 1\n"
     ]
    },
    {
     "name": "stdout",
     "output_type": "stream",
     "text": [
      "Epoch 16: 100%|██████████| 11/11 [00:00<00:00, 62.25it/s, v_num=1, train_loss=98.80, val_loss=387.0]"
     ]
    },
    {
     "name": "stderr",
     "output_type": "stream",
     "text": [
      "Metric val_loss improved by 1.647 >= min_delta = 0.0. New best score: 386.927\n",
      "Epoch 16, global step 187: 'val_loss' reached 386.92654 (best 386.92654), saving model to '/home/chris/courses/colab_tutorials/lecture_hackathon2/my_model/epoch=16-step=187.ckpt' as top 1\n"
     ]
    },
    {
     "name": "stdout",
     "output_type": "stream",
     "text": [
      "Epoch 17: 100%|██████████| 11/11 [00:00<00:00, 64.69it/s, v_num=1, train_loss=71.00, val_loss=362.0]"
     ]
    },
    {
     "name": "stderr",
     "output_type": "stream",
     "text": [
      "Metric val_loss improved by 25.192 >= min_delta = 0.0. New best score: 361.735\n",
      "Epoch 17, global step 198: 'val_loss' reached 361.73489 (best 361.73489), saving model to '/home/chris/courses/colab_tutorials/lecture_hackathon2/my_model/epoch=17-step=198.ckpt' as top 1\n"
     ]
    },
    {
     "name": "stdout",
     "output_type": "stream",
     "text": [
      "Epoch 18: 100%|██████████| 11/11 [00:00<00:00, 63.03it/s, v_num=1, train_loss=110.0, val_loss=356.0]"
     ]
    },
    {
     "name": "stderr",
     "output_type": "stream",
     "text": [
      "Metric val_loss improved by 5.440 >= min_delta = 0.0. New best score: 356.295\n",
      "Epoch 18, global step 209: 'val_loss' reached 356.29492 (best 356.29492), saving model to '/home/chris/courses/colab_tutorials/lecture_hackathon2/my_model/epoch=18-step=209.ckpt' as top 1\n"
     ]
    },
    {
     "name": "stdout",
     "output_type": "stream",
     "text": [
      "Epoch 19: 100%|██████████| 11/11 [00:00<00:00, 64.05it/s, v_num=1, train_loss=82.30, val_loss=346.0]"
     ]
    },
    {
     "name": "stderr",
     "output_type": "stream",
     "text": [
      "Metric val_loss improved by 10.199 >= min_delta = 0.0. New best score: 346.096\n",
      "Epoch 19, global step 220: 'val_loss' reached 346.09589 (best 346.09589), saving model to '/home/chris/courses/colab_tutorials/lecture_hackathon2/my_model/epoch=19-step=220.ckpt' as top 1\n"
     ]
    },
    {
     "name": "stdout",
     "output_type": "stream",
     "text": [
      "Epoch 20: 100%|██████████| 11/11 [00:00<00:00, 64.01it/s, v_num=1, train_loss=168.0, val_loss=343.0]"
     ]
    },
    {
     "name": "stderr",
     "output_type": "stream",
     "text": [
      "Metric val_loss improved by 2.817 >= min_delta = 0.0. New best score: 343.279\n",
      "Epoch 20, global step 231: 'val_loss' reached 343.27875 (best 343.27875), saving model to '/home/chris/courses/colab_tutorials/lecture_hackathon2/my_model/epoch=20-step=231.ckpt' as top 1\n"
     ]
    },
    {
     "name": "stdout",
     "output_type": "stream",
     "text": [
      "Epoch 21: 100%|██████████| 11/11 [00:00<00:00, 64.10it/s, v_num=1, train_loss=136.0, val_loss=350.0]"
     ]
    },
    {
     "name": "stderr",
     "output_type": "stream",
     "text": [
      "Epoch 21, global step 242: 'val_loss' was not in top 1\n"
     ]
    },
    {
     "name": "stdout",
     "output_type": "stream",
     "text": [
      "Epoch 22: 100%|██████████| 11/11 [00:00<00:00, 66.20it/s, v_num=1, train_loss=137.0, val_loss=340.0]"
     ]
    },
    {
     "name": "stderr",
     "output_type": "stream",
     "text": [
      "Metric val_loss improved by 3.057 >= min_delta = 0.0. New best score: 340.222\n",
      "Epoch 22, global step 253: 'val_loss' reached 340.22205 (best 340.22205), saving model to '/home/chris/courses/colab_tutorials/lecture_hackathon2/my_model/epoch=22-step=253.ckpt' as top 1\n"
     ]
    },
    {
     "name": "stdout",
     "output_type": "stream",
     "text": [
      "Epoch 23: 100%|██████████| 11/11 [00:00<00:00, 66.00it/s, v_num=1, train_loss=93.90, val_loss=352.0]"
     ]
    },
    {
     "name": "stderr",
     "output_type": "stream",
     "text": [
      "Epoch 23, global step 264: 'val_loss' was not in top 1\n"
     ]
    },
    {
     "name": "stdout",
     "output_type": "stream",
     "text": [
      "Epoch 24: 100%|██████████| 11/11 [00:00<00:00, 66.49it/s, v_num=1, train_loss=123.0, val_loss=342.0]"
     ]
    },
    {
     "name": "stderr",
     "output_type": "stream",
     "text": [
      "Epoch 24, global step 275: 'val_loss' was not in top 1\n"
     ]
    },
    {
     "name": "stdout",
     "output_type": "stream",
     "text": [
      "Epoch 25: 100%|██████████| 11/11 [00:00<00:00, 65.54it/s, v_num=1, train_loss=194.0, val_loss=337.0]"
     ]
    },
    {
     "name": "stderr",
     "output_type": "stream",
     "text": [
      "Metric val_loss improved by 2.761 >= min_delta = 0.0. New best score: 337.461\n",
      "Epoch 25, global step 286: 'val_loss' reached 337.46082 (best 337.46082), saving model to '/home/chris/courses/colab_tutorials/lecture_hackathon2/my_model/epoch=25-step=286.ckpt' as top 1\n"
     ]
    },
    {
     "name": "stdout",
     "output_type": "stream",
     "text": [
      "Epoch 26: 100%|██████████| 11/11 [00:00<00:00, 65.75it/s, v_num=1, train_loss=114.0, val_loss=333.0]"
     ]
    },
    {
     "name": "stderr",
     "output_type": "stream",
     "text": [
      "Metric val_loss improved by 4.027 >= min_delta = 0.0. New best score: 333.434\n",
      "Epoch 26, global step 297: 'val_loss' reached 333.43387 (best 333.43387), saving model to '/home/chris/courses/colab_tutorials/lecture_hackathon2/my_model/epoch=26-step=297.ckpt' as top 1\n"
     ]
    },
    {
     "name": "stdout",
     "output_type": "stream",
     "text": [
      "Epoch 27: 100%|██████████| 11/11 [00:00<00:00, 64.05it/s, v_num=1, train_loss=83.20, val_loss=327.0]"
     ]
    },
    {
     "name": "stderr",
     "output_type": "stream",
     "text": [
      "Metric val_loss improved by 6.357 >= min_delta = 0.0. New best score: 327.076\n",
      "Epoch 27, global step 308: 'val_loss' reached 327.07642 (best 327.07642), saving model to '/home/chris/courses/colab_tutorials/lecture_hackathon2/my_model/epoch=27-step=308.ckpt' as top 1\n"
     ]
    },
    {
     "name": "stdout",
     "output_type": "stream",
     "text": [
      "Epoch 28: 100%|██████████| 11/11 [00:00<00:00, 64.19it/s, v_num=1, train_loss=65.50, val_loss=329.0]"
     ]
    },
    {
     "name": "stderr",
     "output_type": "stream",
     "text": [
      "Epoch 28, global step 319: 'val_loss' was not in top 1\n"
     ]
    },
    {
     "name": "stdout",
     "output_type": "stream",
     "text": [
      "Epoch 29: 100%|██████████| 11/11 [00:00<00:00, 62.26it/s, v_num=1, train_loss=81.10, val_loss=331.0]"
     ]
    },
    {
     "name": "stderr",
     "output_type": "stream",
     "text": [
      "Epoch 29, global step 330: 'val_loss' was not in top 1\n"
     ]
    },
    {
     "name": "stdout",
     "output_type": "stream",
     "text": [
      "Epoch 30: 100%|██████████| 11/11 [00:00<00:00, 63.88it/s, v_num=1, train_loss=119.0, val_loss=315.0]"
     ]
    },
    {
     "name": "stderr",
     "output_type": "stream",
     "text": [
      "Metric val_loss improved by 12.505 >= min_delta = 0.0. New best score: 314.571\n",
      "Epoch 30, global step 341: 'val_loss' reached 314.57117 (best 314.57117), saving model to '/home/chris/courses/colab_tutorials/lecture_hackathon2/my_model/epoch=30-step=341.ckpt' as top 1\n"
     ]
    },
    {
     "name": "stdout",
     "output_type": "stream",
     "text": [
      "Epoch 31: 100%|██████████| 11/11 [00:00<00:00, 64.40it/s, v_num=1, train_loss=89.20, val_loss=337.0]"
     ]
    },
    {
     "name": "stderr",
     "output_type": "stream",
     "text": [
      "Epoch 31, global step 352: 'val_loss' was not in top 1\n"
     ]
    },
    {
     "name": "stdout",
     "output_type": "stream",
     "text": [
      "Epoch 32: 100%|██████████| 11/11 [00:00<00:00, 64.84it/s, v_num=1, train_loss=66.60, val_loss=335.0]"
     ]
    },
    {
     "name": "stderr",
     "output_type": "stream",
     "text": [
      "Epoch 32, global step 363: 'val_loss' was not in top 1\n"
     ]
    },
    {
     "name": "stdout",
     "output_type": "stream",
     "text": [
      "Epoch 33: 100%|██████████| 11/11 [00:00<00:00, 64.67it/s, v_num=1, train_loss=64.80, val_loss=340.0]"
     ]
    },
    {
     "name": "stderr",
     "output_type": "stream",
     "text": [
      "Monitored metric val_loss did not improve in the last 3 records. Best score: 314.571. Signaling Trainer to stop.\n",
      "Epoch 33, global step 374: 'val_loss' was not in top 1\n"
     ]
    },
    {
     "name": "stdout",
     "output_type": "stream",
     "text": [
      "Epoch 33: 100%|██████████| 11/11 [00:00<00:00, 64.10it/s, v_num=1, train_loss=64.80, val_loss=340.0]\n",
      "\n"
     ]
    }
   ],
   "source": [
    "from lightning.pytorch.callbacks import ModelSummary\n",
    "from lightning.pytorch.callbacks.early_stopping import EarlyStopping\n",
    "from lightning.pytorch.callbacks import ModelCheckpoint\n",
    "\n",
    "from pathlib import Path\n",
    "import shutil\n",
    "\n",
    "\n",
    "save_dir = Path(\"my_model\")\n",
    "if save_dir.exists():\n",
    "    shutil.rmtree(save_dir)\n",
    "\n",
    "callbacks = [\n",
    "    ModelCheckpoint(dirpath=save_dir, save_top_k=1, monitor=\"val_loss\", verbose=True),\n",
    "    ModelSummary(max_depth=-1),\n",
    "    EarlyStopping(monitor=\"val_loss\", mode=\"min\", verbose=True),\n",
    "]\n",
    "\n",
    "\n",
    "regressor = LitRegressor()\n",
    "trainer = L.Trainer(\n",
    "    max_epochs=50,\n",
    "    log_every_n_steps=1,\n",
    "    val_check_interval=1,\n",
    "    callbacks=callbacks,\n",
    ")\n",
    "trainer.fit(model=regressor, train_dataloaders=train_loader, val_dataloaders=val_loader)"
   ]
  },
  {
   "cell_type": "markdown",
   "metadata": {},
   "source": [
    "## Plot"
   ]
  },
  {
   "cell_type": "code",
   "execution_count": 35,
   "metadata": {},
   "outputs": [
    {
     "data": {
      "text/plain": [
       "<Axes: xlabel='epoch,step'>"
      ]
     },
     "execution_count": 35,
     "metadata": {},
     "output_type": "execute_result"
    },
    {
     "data": {
      "image/png": "[encoded data removed]",
      "text/plain": [
       "<Figure size 640x480 with 1 Axes>"
      ]
     },
     "metadata": {},
     "output_type": "display_data"
    }
   ],
   "source": [
    "df_res = pd.read_csv(Path(trainer.logger.log_dir) / \"metrics.csv\")\n",
    "df_res = df_res.set_index([\"epoch\", \"step\"])\n",
    "df_res = pd.concat([df_res[\"train_loss\"].dropna(), df_res[\"val_loss\"].dropna()], axis=1)\n",
    "df_res.plot()"
   ]
  },
  {
   "cell_type": "code",
   "execution_count": 42,
   "metadata": {},
   "outputs": [
    {
     "name": "stderr",
     "output_type": "stream",
     "text": [
      "Trainer will use only 1 of 4 GPUs because it is running inside an interactive / notebook environment. You may try to set `Trainer(devices=4)` but please note that multi-GPU inside interactive / notebook environments is considered experimental and unstable. Your mileage may vary.\n"
     ]
    },
    {
     "name": "stderr",
     "output_type": "stream",
     "text": [
      "GPU available: True (cuda), used: True\n",
      "TPU available: False, using: 0 TPU cores\n",
      "IPU available: False, using: 0 IPUs\n",
      "HPU available: False, using: 0 HPUs\n",
      "LOCAL_RANK: 0 - CUDA_VISIBLE_DEVICES: [0,1,2,3]\n",
      "/home/chris/courses/colab_tutorials/.venv/lib/python3.10/site-packages/lightning/pytorch/trainer/connectors/data_connector.py:441: The 'predict_dataloader' does not have many workers which may be a bottleneck. Consider increasing the value of the `num_workers` argument` to `num_workers=191` in the `DataLoader` to improve performance.\n"
     ]
    },
    {
     "name": "stdout",
     "output_type": "stream",
     "text": [
      "Predicting DataLoader 0: 100%|██████████| 4/4 [00:00<00:00, 927.43it/s] \n",
      "rmse = 17.736155 [%]\n",
      "r2 = 0.14252982302192596\n"
     ]
    },
    {
     "data": {
      "image/png": "[encoded data removed]",
      "text/plain": [
       "<Figure size 640x480 with 1 Axes>"
      ]
     },
     "metadata": {},
     "output_type": "display_data"
    }
   ],
   "source": [
    "import matplotlib.pyplot as plt\n",
    "from sklearn.metrics import root_mean_squared_error, r2_score\n",
    "\n",
    "fig, ax = plt.subplots()\n",
    "best_regressor = LitRegressor.load_from_checkpoint(list(save_dir.glob(\"*.ckpt\"))[0])\n",
    "\n",
    "trainer = L.Trainer()\n",
    "preds = trainer.predict(best_regressor, test_loader)\n",
    "preds = torch.cat(preds).squeeze().numpy()\n",
    "\n",
    "rmse = root_mean_squared_error(preds, test_values)\n",
    "r2 = r2_score(preds, test_values)\n",
    "\n",
    "ax.plot(preds, test_values, \"o\")\n",
    "ax.plot([0, 100], [0, 100], \"k--\")\n",
    "ax.set_ylabel(\"true\")\n",
    "ax.set_xlabel(\"pred\")\n",
    "print(f\"{rmse = } [%]\")\n",
    "print(f\"{r2 = }\")"
   ]
  }
 ],
 "metadata": {
  "kernelspec": {
   "display_name": ".venv",
   "language": "python",
   "name": "python3"
  },
  "language_info": {
   "codemirror_mode": {
    "name": "ipython",
    "version": 3
   },
   "file_extension": ".py",
   "mimetype": "text/x-python",
   "name": "python",
   "nbconvert_exporter": "python",
   "pygments_lexer": "ipython3",
   "version": "3.10.12"
  }
 },
 "nbformat": 4,
 "nbformat_minor": 2
}
