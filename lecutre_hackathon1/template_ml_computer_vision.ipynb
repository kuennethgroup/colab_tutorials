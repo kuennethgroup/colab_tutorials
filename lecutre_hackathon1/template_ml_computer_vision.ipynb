{
 "cells": [
  {
   "cell_type": "markdown",
   "metadata": {},
   "source": [
    "Follows: https://auto.gluon.ai/stable/tutorials/multimodal/image_prediction/beginner_image_cls.html"
   ]
  },
  {
   "cell_type": "code",
   "execution_count": null,
   "metadata": {},
   "outputs": [],
   "source": [
    "import os\n",
    "# Use the third GPU onlu\n",
    "os.environ['CUDA_VISIBLE_DEVICES'] = \"2\""
   ]
  },
  {
   "cell_type": "code",
   "execution_count": null,
   "metadata": {},
   "outputs": [],
   "source": [
    "import pandas as pd\n",
    "from sklearn.model_selection import train_test_split\n",
    "from pathlib import Path\n",
    "\n",
    "# Load images\n",
    "df = pd.DataFrame([str(i) for i in Path('images').glob('*.tif')], columns=['path'])\n",
    "\n",
    "df_out = pd.read_csv('data_to_predict')\n",
    "\n",
    "# Merge both to data set\n",
    "df = pd.concat((df, df_out), axis=1)\n",
    "\n",
    "# Split\n",
    "df_train, df_test = train_test_split(df, test_size=0.20, random_state=42)"
   ]
  },
  {
   "cell_type": "code",
   "execution_count": null,
   "metadata": {},
   "outputs": [],
   "source": [
    "from autogluon.multimodal import MultiModalPredictor\n",
    "import uuid\n",
    "model_path = f\"./tmp/{uuid.uuid4().hex}-automm_shopee\"\n",
    "predictor = MultiModalPredictor(label=\"area\", path=model_path)\n",
    "predictor.fit(\n",
    "    train_data=df_train,\n",
    "    time_limit=500, # seconds\n",
    "    hyperparameters={\"env.num_gpus\": 1, 'optimization.max_epochs': 100},\n",
    ")"
   ]
  },
  {
   "cell_type": "code",
   "execution_count": null,
   "metadata": {},
   "outputs": [],
   "source": [
    "import matplotlib.pyplot as plt\n",
    "pred = predictor.predict(df_test)\n",
    "df_test.area\n",
    "\n",
    "plt.plot(df_test.area, pred, 'o')\n",
    "plt.plot([10, 60], [10, 60], 'k--')\n"
   ]
  }
 ],
 "metadata": {
  "language_info": {
   "name": "python"
  }
 },
 "nbformat": 4,
 "nbformat_minor": 2
}
