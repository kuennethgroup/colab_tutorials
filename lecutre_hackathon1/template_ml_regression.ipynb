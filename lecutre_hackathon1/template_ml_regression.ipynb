{
 "cells": [
  {
   "cell_type": "markdown",
   "metadata": {},
   "source": [
    "Follows: https://auto.gluon.ai/stable/tutorials/tabular/tabular-quick-start.html"
   ]
  },
  {
   "cell_type": "code",
   "execution_count": null,
   "metadata": {},
   "outputs": [],
   "source": [
    "# !pip install pandas numpy autogluon ipywidgets git+https://github.com/Ramprasad-Group/psmiles.git\n",
    "\n",
    "import pandas as pd\n",
    "import numpy as np\n",
    "from psmiles import PolymerSmiles as PS\n",
    "from sklearn.model_selection import train_test_split\n",
    "from autogluon.tabular import TabularPredictor\n",
    "\n",
    "df = pd.read_json(\n",
    "    \"https://raw.githubusercontent.com/kuennethgroup/colab_tutorials/main/lecture2/data/polymers_tend_to_crystalize.json\"\n",
    ")[['smiles', 'value']]\n",
    "\n",
    "# Compute the fingerprint using the PSMILES package\n",
    "fps = np.vstack(df.smiles.apply(lambda x: PS(x).fingerprint()))\n",
    "# TODO: Scale fps with scaler from sklearn\n",
    "\n",
    "fps = pd.DataFrame(fps)\n",
    "\n",
    "df = pd.concat((fps, df), axis=1)\n",
    "\n",
    "# Drop the smiles columne and make sure they are all floats\n",
    "df = df.drop(columns='smiles')\n",
    "# df = df.astype(np.float32)\n",
    "\n",
    "# Remove columns that are zero\n",
    "# df = df.loc[:, (df!=0).any(axis=0)]\n",
    "\n",
    "# Normalize the tendency to crystalize \n",
    "# df['value'] = df['value'] / 100\n",
    "\n",
    "\n",
    "# split in train and test\n",
    "\n",
    "df_train, df_test = train_test_split(df, test_size=0.20, random_state=42)\n",
    "display(df_train)\n",
    "display(df_test)\n",
    "\n",
    "predictor = TabularPredictor(label=\"value\", problem_type=\"regression\",\n",
    ").fit(df_train, time_limit=500, presets=\"best_quality\")\n"
   ]
  },
  {
   "cell_type": "code",
   "execution_count": null,
   "metadata": {},
   "outputs": [],
   "source": [
    "import matplotlib.pyplot as plt\n",
    "\n",
    "fig, ax = plt.subplots()\n",
    "metrics = predictor.evaluate(df_test, silent=True)\n",
    "\n",
    "\n",
    "y_pred = predictor.predict(df_test.drop(columns=[\"value\"]))\n",
    "y_pred\n",
    "\n",
    "ax.plot(y_pred, df_test[\"value\"], \"o\")\n",
    "ax.plot([0, 100], [0, 100], \"k--\")\n",
    "ax.text(0.1, 0.9, f\"R2 = {metrics['r2']:.3f}\", transform=ax.transAxes)\n",
    "ax.set_title(\"Testdata set\")\n",
    "ax.set_ylabel(\"truth\")\n",
    "ax.set_xlabel(\"pred\")"
   ]
  }
 ],
 "metadata": {
  "language_info": {
   "name": "python"
  }
 },
 "nbformat": 4,
 "nbformat_minor": 2
}
